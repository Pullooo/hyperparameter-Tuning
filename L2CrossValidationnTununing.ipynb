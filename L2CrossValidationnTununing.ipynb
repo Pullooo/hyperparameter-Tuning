{
 "cells": [
  {
   "cell_type": "markdown",
   "id": "8ea4a3bb-dcaa-4a31-8970-dcd976e6c9e0",
   "metadata": {},
   "source": [
    "Two things covered here:\n",
    "\n",
    "**A. Estimating model Generalization Error for CV**\n",
    "\n",
    "**B. Cross Validation for Hyper Parameter Tunning**"
   ]
  },
  {
   "cell_type": "markdown",
   "id": "bfe3c85c-c2a6-4b39-9ddf-2ee3a9f1c751",
   "metadata": {},
   "source": [
    "## A.Estimating model Generalization Error for CV"
   ]
  },
  {
   "cell_type": "code",
   "execution_count": 10,
   "id": "23ff07eb-6638-46f8-8047-4f8c610fefd0",
   "metadata": {},
   "outputs": [],
   "source": [
    "import numpy as np\n",
    "import pandas as pd\n",
    "import matplotlib.pyplot as plt\n",
    "from scipy.special import comb\n",
    "\n",
    "from sklearn.datasets import load_breast_cancer\n",
    "from sklearn.linear_model import LogisticRegression\n",
    "from sklearn.metrics import accuracy_score\n",
    "\n",
    "from sklearn.model_selection import (\n",
    "    KFold,\n",
    "    RepeatedKFold,\n",
    "    LeaveOneOut,\n",
    "    LeavePOut,\n",
    "    StratifiedKFold,\n",
    "    GridSearchCV,\n",
    "    cross_validate,\n",
    "    train_test_split\n",
    ")\n"
   ]
  },
  {
   "cell_type": "code",
   "execution_count": 2,
   "id": "bb02d4e9-1db7-417f-b58a-60cd46834653",
   "metadata": {},
   "outputs": [
    {
     "data": {
      "text/html": [
       "<div>\n",
       "<style scoped>\n",
       "    .dataframe tbody tr th:only-of-type {\n",
       "        vertical-align: middle;\n",
       "    }\n",
       "\n",
       "    .dataframe tbody tr th {\n",
       "        vertical-align: top;\n",
       "    }\n",
       "\n",
       "    .dataframe thead th {\n",
       "        text-align: right;\n",
       "    }\n",
       "</style>\n",
       "<table border=\"1\" class=\"dataframe\">\n",
       "  <thead>\n",
       "    <tr style=\"text-align: right;\">\n",
       "      <th></th>\n",
       "      <th>0</th>\n",
       "      <th>1</th>\n",
       "      <th>2</th>\n",
       "      <th>3</th>\n",
       "      <th>4</th>\n",
       "      <th>5</th>\n",
       "      <th>6</th>\n",
       "      <th>7</th>\n",
       "      <th>8</th>\n",
       "      <th>9</th>\n",
       "      <th>...</th>\n",
       "      <th>20</th>\n",
       "      <th>21</th>\n",
       "      <th>22</th>\n",
       "      <th>23</th>\n",
       "      <th>24</th>\n",
       "      <th>25</th>\n",
       "      <th>26</th>\n",
       "      <th>27</th>\n",
       "      <th>28</th>\n",
       "      <th>29</th>\n",
       "    </tr>\n",
       "  </thead>\n",
       "  <tbody>\n",
       "    <tr>\n",
       "      <th>0</th>\n",
       "      <td>17.99</td>\n",
       "      <td>10.38</td>\n",
       "      <td>122.80</td>\n",
       "      <td>1001.0</td>\n",
       "      <td>0.11840</td>\n",
       "      <td>0.27760</td>\n",
       "      <td>0.3001</td>\n",
       "      <td>0.14710</td>\n",
       "      <td>0.2419</td>\n",
       "      <td>0.07871</td>\n",
       "      <td>...</td>\n",
       "      <td>25.38</td>\n",
       "      <td>17.33</td>\n",
       "      <td>184.60</td>\n",
       "      <td>2019.0</td>\n",
       "      <td>0.1622</td>\n",
       "      <td>0.6656</td>\n",
       "      <td>0.7119</td>\n",
       "      <td>0.2654</td>\n",
       "      <td>0.4601</td>\n",
       "      <td>0.11890</td>\n",
       "    </tr>\n",
       "    <tr>\n",
       "      <th>1</th>\n",
       "      <td>20.57</td>\n",
       "      <td>17.77</td>\n",
       "      <td>132.90</td>\n",
       "      <td>1326.0</td>\n",
       "      <td>0.08474</td>\n",
       "      <td>0.07864</td>\n",
       "      <td>0.0869</td>\n",
       "      <td>0.07017</td>\n",
       "      <td>0.1812</td>\n",
       "      <td>0.05667</td>\n",
       "      <td>...</td>\n",
       "      <td>24.99</td>\n",
       "      <td>23.41</td>\n",
       "      <td>158.80</td>\n",
       "      <td>1956.0</td>\n",
       "      <td>0.1238</td>\n",
       "      <td>0.1866</td>\n",
       "      <td>0.2416</td>\n",
       "      <td>0.1860</td>\n",
       "      <td>0.2750</td>\n",
       "      <td>0.08902</td>\n",
       "    </tr>\n",
       "    <tr>\n",
       "      <th>2</th>\n",
       "      <td>19.69</td>\n",
       "      <td>21.25</td>\n",
       "      <td>130.00</td>\n",
       "      <td>1203.0</td>\n",
       "      <td>0.10960</td>\n",
       "      <td>0.15990</td>\n",
       "      <td>0.1974</td>\n",
       "      <td>0.12790</td>\n",
       "      <td>0.2069</td>\n",
       "      <td>0.05999</td>\n",
       "      <td>...</td>\n",
       "      <td>23.57</td>\n",
       "      <td>25.53</td>\n",
       "      <td>152.50</td>\n",
       "      <td>1709.0</td>\n",
       "      <td>0.1444</td>\n",
       "      <td>0.4245</td>\n",
       "      <td>0.4504</td>\n",
       "      <td>0.2430</td>\n",
       "      <td>0.3613</td>\n",
       "      <td>0.08758</td>\n",
       "    </tr>\n",
       "    <tr>\n",
       "      <th>3</th>\n",
       "      <td>11.42</td>\n",
       "      <td>20.38</td>\n",
       "      <td>77.58</td>\n",
       "      <td>386.1</td>\n",
       "      <td>0.14250</td>\n",
       "      <td>0.28390</td>\n",
       "      <td>0.2414</td>\n",
       "      <td>0.10520</td>\n",
       "      <td>0.2597</td>\n",
       "      <td>0.09744</td>\n",
       "      <td>...</td>\n",
       "      <td>14.91</td>\n",
       "      <td>26.50</td>\n",
       "      <td>98.87</td>\n",
       "      <td>567.7</td>\n",
       "      <td>0.2098</td>\n",
       "      <td>0.8663</td>\n",
       "      <td>0.6869</td>\n",
       "      <td>0.2575</td>\n",
       "      <td>0.6638</td>\n",
       "      <td>0.17300</td>\n",
       "    </tr>\n",
       "    <tr>\n",
       "      <th>4</th>\n",
       "      <td>20.29</td>\n",
       "      <td>14.34</td>\n",
       "      <td>135.10</td>\n",
       "      <td>1297.0</td>\n",
       "      <td>0.10030</td>\n",
       "      <td>0.13280</td>\n",
       "      <td>0.1980</td>\n",
       "      <td>0.10430</td>\n",
       "      <td>0.1809</td>\n",
       "      <td>0.05883</td>\n",
       "      <td>...</td>\n",
       "      <td>22.54</td>\n",
       "      <td>16.67</td>\n",
       "      <td>152.20</td>\n",
       "      <td>1575.0</td>\n",
       "      <td>0.1374</td>\n",
       "      <td>0.2050</td>\n",
       "      <td>0.4000</td>\n",
       "      <td>0.1625</td>\n",
       "      <td>0.2364</td>\n",
       "      <td>0.07678</td>\n",
       "    </tr>\n",
       "  </tbody>\n",
       "</table>\n",
       "<p>5 rows × 30 columns</p>\n",
       "</div>"
      ],
      "text/plain": [
       "      0      1       2       3        4        5       6        7       8   \\\n",
       "0  17.99  10.38  122.80  1001.0  0.11840  0.27760  0.3001  0.14710  0.2419   \n",
       "1  20.57  17.77  132.90  1326.0  0.08474  0.07864  0.0869  0.07017  0.1812   \n",
       "2  19.69  21.25  130.00  1203.0  0.10960  0.15990  0.1974  0.12790  0.2069   \n",
       "3  11.42  20.38   77.58   386.1  0.14250  0.28390  0.2414  0.10520  0.2597   \n",
       "4  20.29  14.34  135.10  1297.0  0.10030  0.13280  0.1980  0.10430  0.1809   \n",
       "\n",
       "        9   ...     20     21      22      23      24      25      26      27  \\\n",
       "0  0.07871  ...  25.38  17.33  184.60  2019.0  0.1622  0.6656  0.7119  0.2654   \n",
       "1  0.05667  ...  24.99  23.41  158.80  1956.0  0.1238  0.1866  0.2416  0.1860   \n",
       "2  0.05999  ...  23.57  25.53  152.50  1709.0  0.1444  0.4245  0.4504  0.2430   \n",
       "3  0.09744  ...  14.91  26.50   98.87   567.7  0.2098  0.8663  0.6869  0.2575   \n",
       "4  0.05883  ...  22.54  16.67  152.20  1575.0  0.1374  0.2050  0.4000  0.1625   \n",
       "\n",
       "       28       29  \n",
       "0  0.4601  0.11890  \n",
       "1  0.2750  0.08902  \n",
       "2  0.3613  0.08758  \n",
       "3  0.6638  0.17300  \n",
       "4  0.2364  0.07678  \n",
       "\n",
       "[5 rows x 30 columns]"
      ]
     },
     "execution_count": 2,
     "metadata": {},
     "output_type": "execute_result"
    }
   ],
   "source": [
    "# load dataset\n",
    "breast_cancer_X, breast_cancer_y = load_breast_cancer(return_X_y=True)\n",
    "X = pd.DataFrame(breast_cancer_X)\n",
    "y = pd.Series(breast_cancer_y).map({0:1, 1:0})\n",
    "\n",
    "X.head()"
   ]
  },
  {
   "cell_type": "code",
   "execution_count": 3,
   "id": "b483386d-4c97-47c5-9653-64e8e45b7244",
   "metadata": {},
   "outputs": [
    {
     "data": {
      "text/plain": [
       "0    0.627417\n",
       "1    0.372583\n",
       "dtype: float64"
      ]
     },
     "execution_count": 3,
     "metadata": {},
     "output_type": "execute_result"
    }
   ],
   "source": [
    "# percentage of benign (0) and malign tumors (1)\n",
    "y.value_counts(normalize=True)"
   ]
  },
  {
   "cell_type": "code",
   "execution_count": 4,
   "id": "ac0e92b5-dc1e-410c-b1ce-8cfb652d044d",
   "metadata": {},
   "outputs": [
    {
     "data": {
      "text/plain": [
       "((398, 30), (171, 30))"
      ]
     },
     "execution_count": 4,
     "metadata": {},
     "output_type": "execute_result"
    }
   ],
   "source": [
    "# split data into train and test\n",
    "X_train, X_test, y_train, y_test = train_test_split(X, y, test_size=0.3, random_state=0)\n",
    "\n",
    "X_train.shape, X_test.shape"
   ]
  },
  {
   "cell_type": "markdown",
   "id": "1970560c-e8cd-420b-af45-dc34644bafe0",
   "metadata": {
    "tags": []
   },
   "source": [
    "## 1. K-Fold Cross-Validation"
   ]
  },
  {
   "cell_type": "code",
   "execution_count": 13,
   "id": "f54dbf2d-6b09-426c-8b56-513d6a530406",
   "metadata": {},
   "outputs": [
    {
     "data": {
      "text/plain": [
       "array([0.925     , 0.95      , 0.9625    , 0.96202532, 0.94936709])"
      ]
     },
     "execution_count": 13,
     "metadata": {},
     "output_type": "execute_result"
    }
   ],
   "source": [
    "# Logistic Regression\n",
    "logit = LogisticRegression(penalty='l2', C=10, solver='liblinear', random_state=4, max_iter=10000) #l2=lasso penalty\n",
    "\n",
    "# K-Fold cross validation\n",
    "kf = KFold(n_splits=5, shuffle=True, random_state=4)\n",
    "\n",
    "# Search\n",
    "clf = cross_validate(\n",
    "    logit, \n",
    "    X_train,\n",
    "    y_train,\n",
    "    scoring='accuracy',\n",
    "    return_train_score=True,\n",
    "    cv=kf, #k-fold\n",
    ")\n",
    "\n",
    "clf['test_score'] #clf is effectively a dictionary, try printing it out"
   ]
  },
  {
   "cell_type": "code",
   "execution_count": 14,
   "id": "c5623c63-18f7-4ac8-ba60-58f49e19bc54",
   "metadata": {},
   "outputs": [
    {
     "data": {
      "text/plain": [
       "{'fit_time': array([0.00653386, 0.00574684, 0.00640607, 0.00534797, 0.00552773]),\n",
       " 'score_time': array([0.00250006, 0.0020802 , 0.00177789, 0.00138307, 0.00148821]),\n",
       " 'test_score': array([0.925     , 0.95      , 0.9625    , 0.96202532, 0.94936709]),\n",
       " 'train_score': array([0.97484277, 0.96540881, 0.96855346, 0.96238245, 0.97178683])}"
      ]
     },
     "execution_count": 14,
     "metadata": {},
     "output_type": "execute_result"
    }
   ],
   "source": [
    "# to verify that clf is a dictionary\n",
    "clf"
   ]
  },
  {
   "cell_type": "code",
   "execution_count": 15,
   "id": "e65b3157-0c1a-474c-a6f0-a9019af09340",
   "metadata": {},
   "outputs": [
    {
     "data": {
      "text/plain": [
       "array([0.97484277, 0.96540881, 0.96855346, 0.96238245, 0.97178683])"
      ]
     },
     "execution_count": 15,
     "metadata": {},
     "output_type": "execute_result"
    }
   ],
   "source": [
    "# what was the accuracy in the left out dataset\n",
    "clf.get('train_score')"
   ]
  },
  {
   "cell_type": "code",
   "execution_count": 32,
   "id": "1a19c67f-c1a1-4496-8a3e-c0189da511c5",
   "metadata": {},
   "outputs": [
    {
     "name": "stdout",
     "output_type": "stream",
     "text": [
      "mean train set accuracy: 0.9686\n",
      "mean test set accuracy: 0.9498\n"
     ]
    }
   ],
   "source": [
    "train_acc = np.mean(clf['train_score'])\n",
    "test_acc = np.mean(clf['test_score'])\n",
    "print(f'mean train set accuracy: {acc :.4f}')\n",
    "print(f'mean test set accuracy: {test_acc :.4f}')"
   ]
  },
  {
   "cell_type": "code",
   "execution_count": 35,
   "id": "76a5f5de-296e-4823-aff4-264b8aceb518",
   "metadata": {},
   "outputs": [
    {
     "name": "stdout",
     "output_type": "stream",
     "text": [
      "mean train set accuracy: 0.9686 +- 0.004427\n",
      "mean test set accuracy: 0.9498 +- 0.013609\n"
     ]
    }
   ],
   "source": [
    "print('mean train set accuracy: {:.4f} +- {:.6f}'.format(np.mean(clf['train_score']), np.std(clf['train_score'])))\n",
    "print('mean test set accuracy: {:.4f} +- {:.6f}'.format(np.mean(clf['test_score']), np.std(clf['test_score'])))"
   ]
  },
  {
   "cell_type": "markdown",
   "id": "43a3f8bd-ac39-4779-89b1-28115b64ec52",
   "metadata": {},
   "source": [
    "Notice:\n",
    "- train set accuracy is 96 +- a number in the third decimal\n",
    "- test set accuracy is 94 +- a number in the second decimal. We can see that if we add 1 (roughly the error) to the accuracy here, we are within the train set accuracy meaning there's no overfitting\n",
    "- We can expect the performance of our test set (not the test set to be within the test set accuracy)"
   ]
  },
  {
   "cell_type": "markdown",
   "id": "7682c2cd-dc8e-453e-8dd4-43af580f8658",
   "metadata": {},
   "source": [
    "## 2. Repeated K-Fold"
   ]
  },
  {
   "cell_type": "code",
   "execution_count": 40,
   "id": "1bc41950-0dfc-4d82-b3c5-486bd6c9b85a",
   "metadata": {},
   "outputs": [
    {
     "name": "stdout",
     "output_type": "stream",
     "text": [
      "We expect k * n performance metrics:  50\n",
      "Number of metrics obtained: 50\n"
     ]
    },
    {
     "data": {
      "text/plain": [
       "array([0.9       , 0.9375    , 0.975     , 0.96202532, 0.94936709,\n",
       "       0.9625    , 0.9625    , 0.9125    , 0.96202532, 0.92405063,\n",
       "       0.9875    , 0.95      , 0.975     , 0.91139241, 0.96202532,\n",
       "       0.95      , 0.9375    , 0.95      , 0.92405063, 0.96202532,\n",
       "       0.975     , 0.9125    , 0.9375    , 0.94936709, 0.96202532,\n",
       "       0.9875    , 0.9125    , 0.9375    , 0.92405063, 0.96202532,\n",
       "       0.9625    , 0.9375    , 0.95      , 0.92405063, 0.93670886,\n",
       "       0.95      , 0.95      , 0.95      , 0.98734177, 0.88607595,\n",
       "       0.95      , 0.925     , 0.9625    , 0.96202532, 0.94936709,\n",
       "       0.925     , 0.9625    , 0.925     , 0.91139241, 0.96202532])"
      ]
     },
     "execution_count": 40,
     "metadata": {},
     "output_type": "execute_result"
    }
   ],
   "source": [
    "# Logistic Regression\n",
    "logit = LogisticRegression(\n",
    "    penalty='l2', C=1, solver='liblinear', random_state=4, max_iter=10000)\n",
    "\n",
    "# Repeated K-Fold Cross Validation\n",
    "rkf = RepeatedKFold(\n",
    "    n_splits=5,\n",
    "    n_repeats=10,\n",
    "    random_state=4\n",
    ")\n",
    "\n",
    "print('We expect k * n performance metrics: ', 5*10)\n",
    "\n",
    "# search\n",
    "clf = cross_validate(\n",
    "    logit,\n",
    "    X_train,\n",
    "    y_train,\n",
    "    scoring='accuracy',\n",
    "    return_train_score=True,\n",
    "    cv=rkf\n",
    ")\n",
    "\n",
    "print('Number of metrics obtained: {}'.format(len(clf['test_score'])))\n",
    "\n",
    "clf['test_score']"
   ]
  },
  {
   "cell_type": "code",
   "execution_count": 43,
   "id": "12ccb82b-ae2d-4a89-9ede-4f112104c2f0",
   "metadata": {},
   "outputs": [
    {
     "name": "stdout",
     "output_type": "stream",
     "text": [
      "train set accuracy: 0.9603 +- 0.006710\n",
      "test set accuracy: 0.9457 +- 0.022986\n"
     ]
    }
   ],
   "source": [
    "print('train set accuracy: {:.4f} +- {:.6f}'.format(np.mean(clf['train_score']), np.std(clf['train_score'])))\n",
    "print('test set accuracy: {:.4f} +- {:.6f}'.format(np.mean(clf['test_score']), np.std(clf['test_score'])))"
   ]
  },
  {
   "cell_type": "markdown",
   "id": "8952a515-ee18-4972-91f6-7e13f6cb074a",
   "metadata": {},
   "source": [
    "## 3. Leave One out"
   ]
  },
  {
   "cell_type": "code",
   "execution_count": 46,
   "id": "95c1a1f8-339b-4432-abd3-9ae18f96065d",
   "metadata": {},
   "outputs": [
    {
     "name": "stdout",
     "output_type": "stream",
     "text": [
      "We expect as many metrics as data in the train set:  398\n",
      "Number of metrics obtained: 398\n"
     ]
    },
    {
     "data": {
      "text/plain": [
       "398"
      ]
     },
     "execution_count": 46,
     "metadata": {},
     "output_type": "execute_result"
    }
   ],
   "source": [
    "# Logistic Regression\n",
    "logit = LogisticRegression(\n",
    "    penalty='l2', C=1, solver='liblinear', random_state=4, max_iter=10000)\n",
    "\n",
    "# Leave One Out cross validation\n",
    "loo = LeaveOneOut()\n",
    "\n",
    "print('We expect as many metrics as data in the train set: ', len(X_train))\n",
    "\n",
    "# search\n",
    "clf = cross_validate(\n",
    "    logit,\n",
    "    X_train,\n",
    "    y_train,\n",
    "    scoring='accuracy',\n",
    "    return_train_score=True,\n",
    "    cv=loo\n",
    ")\n",
    "\n",
    "print('Number of metrics obtained: {}'.format(len(clf['test_score'])))\n",
    "\n",
    "len(clf['test_score'])"
   ]
  },
  {
   "cell_type": "code",
   "execution_count": 47,
   "id": "0a86892d-83a1-430a-afdf-3913bb57b807",
   "metadata": {},
   "outputs": [
    {
     "name": "stdout",
     "output_type": "stream",
     "text": [
      "train set accuracy: 0.9575 +- 0.001255\n",
      "test set accuracy: 0.9447 +- 0.228519\n"
     ]
    }
   ],
   "source": [
    "print('train set accuracy: {:.4f} +- {:.6f}'.format(np.mean(clf['train_score']), np.std(clf['train_score'])))\n",
    "print('test set accuracy: {:.4f} +- {:.6f}'.format(np.mean(clf['test_score']), np.std(clf['test_score'])))"
   ]
  },
  {
   "cell_type": "markdown",
   "id": "901675cd-b4ed-46c4-9900-612db6a36a6f",
   "metadata": {},
   "source": [
    "Notice:\n",
    "- The test accuracy error (0.228) is much bigger because we are measuring the performance on just one observation"
   ]
  },
  {
   "cell_type": "markdown",
   "id": "4c6d9344-c526-4bda-9364-52b0a4c500f1",
   "metadata": {},
   "source": [
    "## 4. Leave P Out\n",
    "\n",
    "This cross validation procedure will leave out all possible combinations of 2 observation from the data implying it will train a lot of models"
   ]
  },
  {
   "cell_type": "code",
   "execution_count": 56,
   "id": "0e4f1eb1-d217-4b0d-8af6-e96350db4543",
   "metadata": {},
   "outputs": [
    {
     "name": "stdout",
     "output_type": "stream",
     "text": [
      "We expect 4950.0 metrics\n",
      "Number of metrics obtained: 4950\n"
     ]
    },
    {
     "data": {
      "text/plain": [
       "4950"
      ]
     },
     "execution_count": 56,
     "metadata": {},
     "output_type": "execute_result"
    }
   ],
   "source": [
    "# Logistic Regression\n",
    "logit = LogisticRegression(\n",
    "    penalty='l2', C=1, solver='liblinear', random_state=4, max_iter=10000)\n",
    "\n",
    "# Leave One Out cross validation\n",
    "lpo = LeavePOut(p=2)\n",
    "\n",
    "# Let's take a smaller sample of data to avoid computer running out of memory\n",
    "X_train_small = X_train.head(100)\n",
    "y_train_small = y_train.head(100)\n",
    "\n",
    "print('We expect {} metrics'.format(comb(100,2)))\n",
    "\n",
    "# search\n",
    "clf = cross_validate(\n",
    "    logit,\n",
    "    X_train_small,\n",
    "    y_train_small,\n",
    "    scoring='accuracy',\n",
    "    return_train_score=True,\n",
    "    cv=lpo,\n",
    ")\n",
    "\n",
    "print('Number of metrics obtained: {}'.format(len(clf['test_score'])))\n",
    "\n",
    "len(clf['test_score'])"
   ]
  },
  {
   "cell_type": "code",
   "execution_count": 57,
   "id": "522328f2-cbed-4b0b-9e90-fda638bc2cee",
   "metadata": {},
   "outputs": [
    {
     "name": "stdout",
     "output_type": "stream",
     "text": [
      "train set accuracy: 0.9700 +- 0.003233\n",
      "test set accuracy: 0.9191 +- 0.192981\n"
     ]
    }
   ],
   "source": [
    "print('train set accuracy: {:.4f} +- {:.6f}'.format(np.mean(clf['train_score']), np.std(clf['train_score'])))\n",
    "print('test set accuracy: {:.4f} +- {:.6f}'.format(np.mean(clf['test_score']), np.std(clf['test_score'])))"
   ]
  },
  {
   "cell_type": "markdown",
   "id": "2ab137f4-57d6-4044-97dd-1087416502c3",
   "metadata": {},
   "source": [
    "## 5. Stratified K-Fold Cross Validation"
   ]
  },
  {
   "cell_type": "code",
   "execution_count": 58,
   "id": "cd0fa508-e9ff-451b-963a-44b55459f3c2",
   "metadata": {},
   "outputs": [
    {
     "data": {
      "text/plain": [
       "5"
      ]
     },
     "execution_count": 58,
     "metadata": {},
     "output_type": "execute_result"
    }
   ],
   "source": [
    "# Logistic Regression\n",
    "logit = LogisticRegression(\n",
    "    penalty='l2', C=1, solver='liblinear', random_state=4, max_iter=10000)\n",
    "\n",
    "# Stratified K fold\n",
    "skf = StratifiedKFold(n_splits=5, shuffle=True, random_state=4)\n",
    "\n",
    "# search\n",
    "clf = cross_validate(\n",
    "    logit,\n",
    "    X_train,\n",
    "    y_train,\n",
    "    scoring='accuracy',\n",
    "    return_train_score=True,\n",
    "    cv=skf\n",
    ")\n",
    "\n",
    "\n",
    "len(clf['test_score'])"
   ]
  },
  {
   "cell_type": "code",
   "execution_count": 59,
   "id": "56d59124-6924-4a97-930f-097ac3ed0d3d",
   "metadata": {},
   "outputs": [
    {
     "name": "stdout",
     "output_type": "stream",
     "text": [
      "train set accuracy: 0.9611 +- 0.004709\n",
      "test set accuracy: 0.9446 +- 0.023649\n"
     ]
    }
   ],
   "source": [
    "print('train set accuracy: {:.4f} +- {:.6f}'.format(np.mean(clf['train_score']), np.std(clf['train_score'])))\n",
    "print('test set accuracy: {:.4f} +- {:.6f}'.format(np.mean(clf['test_score']), np.std(clf['test_score'])))"
   ]
  },
  {
   "cell_type": "markdown",
   "id": "c9308400-fd3c-4c07-b09b-32aa70668a6e",
   "metadata": {},
   "source": [
    "## B. CROSS VALIDATION FOR HYPER PARAMETER TUNING"
   ]
  },
  {
   "cell_type": "markdown",
   "id": "051a5a37-cdd3-4c88-b814-7c89237e93b8",
   "metadata": {},
   "source": [
    "Note we are using the data splits from section A"
   ]
  },
  {
   "cell_type": "markdown",
   "id": "f2a6cb69-42d6-43e4-bd89-dbb7a987f3c7",
   "metadata": {},
   "source": [
    "### 1. KFold Cross validation"
   ]
  },
  {
   "cell_type": "code",
   "execution_count": 6,
   "id": "f27d375f-2ead-4365-a259-874e31c02108",
   "metadata": {},
   "outputs": [
    {
     "data": {
      "text/plain": [
       "{'C': 10, 'penalty': 'l2'}"
      ]
     },
     "execution_count": 6,
     "metadata": {},
     "output_type": "execute_result"
    }
   ],
   "source": [
    "# Logistic Regression\n",
    "logit = LogisticRegression(\n",
    "    penalty='l2', C=1, solver='liblinear', random_state=4, max_iter=10000) #these initial parameters dont matter too much as we'll be modifying them with grid search\n",
    "\n",
    "# hyperparameter space - contains different parameters we want to test\n",
    "param_grid = dict(\n",
    "    penalty=['l1', 'l2'],\n",
    "    C=[0.1, 1, 10],\n",
    ")\n",
    "\n",
    "# K-fold cross-validation\n",
    "kf = KFold(n_splits=5, shuffle=True, random_state=4)\n",
    "\n",
    "# search\n",
    "clf = GridSearchCV(\n",
    "    logit,\n",
    "    param_grid,\n",
    "    scoring='accuracy',\n",
    "    cv=kf, #k-fold\n",
    "    refit=True, #refits best model to entire dataset\n",
    ")\n",
    "\n",
    "# By fitting with grid search, it will build models with all the possible combinations of parameters in the parameter space\n",
    "search = clf.fit(X_train, y_train)\n",
    "\n",
    "# best hyperparameters\n",
    "search.best_params_"
   ]
  },
  {
   "cell_type": "code",
   "execution_count": 7,
   "id": "017d79a9-8156-4734-8932-a674da37cf29",
   "metadata": {},
   "outputs": [
    {
     "data": {
      "text/plain": [
       "GridSearchCV(cv=KFold(n_splits=5, random_state=4, shuffle=True),\n",
       "             estimator=LogisticRegression(C=1, max_iter=10000, random_state=4,\n",
       "                                          solver='liblinear'),\n",
       "             param_grid={'C': [0.1, 1, 10], 'penalty': ['l1', 'l2']},\n",
       "             scoring='accuracy')"
      ]
     },
     "execution_count": 7,
     "metadata": {},
     "output_type": "execute_result"
    }
   ],
   "source": [
    "search"
   ]
  },
  {
   "cell_type": "code",
   "execution_count": 8,
   "id": "0391f504-5e67-4d72-a4db-2a27d8fd1342",
   "metadata": {},
   "outputs": [
    {
     "name": "stdout",
     "output_type": "stream",
     "text": [
      "(6, 3)\n"
     ]
    },
    {
     "data": {
      "text/html": [
       "<div>\n",
       "<style scoped>\n",
       "    .dataframe tbody tr th:only-of-type {\n",
       "        vertical-align: middle;\n",
       "    }\n",
       "\n",
       "    .dataframe tbody tr th {\n",
       "        vertical-align: top;\n",
       "    }\n",
       "\n",
       "    .dataframe thead th {\n",
       "        text-align: right;\n",
       "    }\n",
       "</style>\n",
       "<table border=\"1\" class=\"dataframe\">\n",
       "  <thead>\n",
       "    <tr style=\"text-align: right;\">\n",
       "      <th></th>\n",
       "      <th>params</th>\n",
       "      <th>mean_test_score</th>\n",
       "      <th>std_test_score</th>\n",
       "    </tr>\n",
       "  </thead>\n",
       "  <tbody>\n",
       "    <tr>\n",
       "      <th>0</th>\n",
       "      <td>{'C': 0.1, 'penalty': 'l1'}</td>\n",
       "      <td>0.919620</td>\n",
       "      <td>0.012606</td>\n",
       "    </tr>\n",
       "    <tr>\n",
       "      <th>1</th>\n",
       "      <td>{'C': 0.1, 'penalty': 'l2'}</td>\n",
       "      <td>0.934747</td>\n",
       "      <td>0.019812</td>\n",
       "    </tr>\n",
       "    <tr>\n",
       "      <th>2</th>\n",
       "      <td>{'C': 1, 'penalty': 'l1'}</td>\n",
       "      <td>0.944810</td>\n",
       "      <td>0.024360</td>\n",
       "    </tr>\n",
       "    <tr>\n",
       "      <th>3</th>\n",
       "      <td>{'C': 1, 'penalty': 'l2'}</td>\n",
       "      <td>0.944778</td>\n",
       "      <td>0.025651</td>\n",
       "    </tr>\n",
       "    <tr>\n",
       "      <th>4</th>\n",
       "      <td>{'C': 10, 'penalty': 'l1'}</td>\n",
       "      <td>0.947247</td>\n",
       "      <td>0.014592</td>\n",
       "    </tr>\n",
       "    <tr>\n",
       "      <th>5</th>\n",
       "      <td>{'C': 10, 'penalty': 'l2'}</td>\n",
       "      <td>0.949778</td>\n",
       "      <td>0.013609</td>\n",
       "    </tr>\n",
       "  </tbody>\n",
       "</table>\n",
       "</div>"
      ],
      "text/plain": [
       "                        params  mean_test_score  std_test_score\n",
       "0  {'C': 0.1, 'penalty': 'l1'}         0.919620        0.012606\n",
       "1  {'C': 0.1, 'penalty': 'l2'}         0.934747        0.019812\n",
       "2    {'C': 1, 'penalty': 'l1'}         0.944810        0.024360\n",
       "3    {'C': 1, 'penalty': 'l2'}         0.944778        0.025651\n",
       "4   {'C': 10, 'penalty': 'l1'}         0.947247        0.014592\n",
       "5   {'C': 10, 'penalty': 'l2'}         0.949778        0.013609"
      ]
     },
     "execution_count": 8,
     "metadata": {},
     "output_type": "execute_result"
    }
   ],
   "source": [
    "results = pd.DataFrame(search.cv_results_)[['params', 'mean_test_score', 'std_test_score']]\n",
    "print(results.shape)\n",
    "results"
   ]
  },
  {
   "cell_type": "code",
   "execution_count": 11,
   "id": "bd4be7f4-0834-4ed9-99a8-86b7343f3acf",
   "metadata": {},
   "outputs": [
    {
     "data": {
      "text/plain": [
       "Text(0.5, 0, 'Hyperparameter space')"
      ]
     },
     "execution_count": 11,
     "metadata": {},
     "output_type": "execute_result"
    },
    {
     "data": {
      "image/png": "[encoded data removed]",
      "text/plain": [
       "<Figure size 432x288 with 1 Axes>"
      ]
     },
     "metadata": {
      "needs_background": "light"
     },
     "output_type": "display_data"
    }
   ],
   "source": [
    "# Let's plot these model accuracys with the interval of performance\n",
    "results.sort_values(by='mean_test_score', ascending=False, inplace=True)\n",
    "\n",
    "results.reset_index(drop=True, inplace=True)\n",
    "\n",
    "results['mean_test_score'].plot(yerr=[results['std_test_score'], results['std_test_score']], subplots=True)\n",
    "\n",
    "plt.ylabel('Mean Accuracy')\n",
    "\n",
    "plt.xlabel('Hyperparameter space')"
   ]
  },
  {
   "cell_type": "markdown",
   "id": "b437f6df-a712-46fd-ba7e-52ddbc78988f",
   "metadata": {},
   "source": [
    "- Here we see the best performing model is the first one at hyper parameter space=0, and the next one is at hyperparameter space 1, with a similar performance"
   ]
  },
  {
   "cell_type": "code",
   "execution_count": 13,
   "id": "0678bfc2-cca6-405b-9cd7-c6cbfbb34ed4",
   "metadata": {},
   "outputs": [
    {
     "name": "stdout",
     "output_type": "stream",
     "text": [
      "Train Accuracy: 0.9623\n",
      "Test Accuracy: 0.9532\n"
     ]
    }
   ],
   "source": [
    "# let's get the predictions\n",
    "train_preds = search.predict(X_train)\n",
    "test_preds = search.predict(X_test)\n",
    "\n",
    "print('Train Accuracy: {:.4f}'.format(accuracy_score(y_train, train_preds)))\n",
    "print('Test Accuracy: {:.4f}'.format(accuracy_score(y_test, test_preds)))"
   ]
  },
  {
   "cell_type": "markdown",
   "id": "9438d1b0-7e96-4716-81a7-b70add67eeb8",
   "metadata": {},
   "source": [
    "Notice that the accuracy of the Test set (not used in training model) falls within the expected interval of accuracy of our best performing model (at hyperparameter space=0 above)"
   ]
  },
  {
   "cell_type": "markdown",
   "id": "423b563c-ec25-428a-907a-bef92c6b4def",
   "metadata": {},
   "source": [
    "### 2. Repeated Kfold cross validation\n",
    "\n",
    "- Very similar approach to doing kfold cross validation"
   ]
  },
  {
   "cell_type": "code",
   "execution_count": 14,
   "id": "bfbb478c-e27b-4b46-acf5-25031cac6143",
   "metadata": {},
   "outputs": [
    {
     "data": {
      "text/plain": [
       "{'C': 10, 'penalty': 'l1'}"
      ]
     },
     "execution_count": 14,
     "metadata": {},
     "output_type": "execute_result"
    }
   ],
   "source": [
    "# Logistic Regression\n",
    "logit = LogisticRegression(\n",
    "    penalty='l2', C=1, solver='liblinear', random_state=4, max_iter=10000) #these initial parameters dont matter too much as we'll be modifying them with grid search\n",
    "\n",
    "# hyperparameter space - contains different parameters we want to test\n",
    "param_grid = dict(\n",
    "    penalty=['l1', 'l2'],\n",
    "    C=[0.1, 1, 10],\n",
    ")\n",
    "\n",
    "# K-fold cross-validation\n",
    "rkf = RepeatedKFold(n_splits=5, \n",
    "                   n_repeats=10, \n",
    "                   random_state=4,\n",
    "                  )\n",
    "\n",
    "\n",
    "# search\n",
    "clf = GridSearchCV(\n",
    "    logit,\n",
    "    param_grid,\n",
    "    scoring='accuracy',\n",
    "    cv=rkf, #repeated k-fold\n",
    "    refit=True, #refits best model to entire dataset\n",
    ")\n",
    "\n",
    "# By fitting with grid search, it will build models with all the possible combinations of parameters in the parameter space\n",
    "search = clf.fit(X_train, y_train)\n",
    "\n",
    "# best hyperparameters\n",
    "search.best_params_"
   ]
  },
  {
   "cell_type": "markdown",
   "id": "ca1d3a2c-2150-4a5b-828a-8d33d3da9644",
   "metadata": {},
   "source": [
    "It's interesting this model chooses the same penalisation constant as kfold, but chooses the ridge regularization over lasso (previous best model)"
   ]
  },
  {
   "cell_type": "code",
   "execution_count": 15,
   "id": "d659ad45-cbbf-4667-8107-402b25da64fa",
   "metadata": {},
   "outputs": [
    {
     "name": "stdout",
     "output_type": "stream",
     "text": [
      "(6, 3)\n"
     ]
    },
    {
     "data": {
      "text/html": [
       "<div>\n",
       "<style scoped>\n",
       "    .dataframe tbody tr th:only-of-type {\n",
       "        vertical-align: middle;\n",
       "    }\n",
       "\n",
       "    .dataframe tbody tr th {\n",
       "        vertical-align: top;\n",
       "    }\n",
       "\n",
       "    .dataframe thead th {\n",
       "        text-align: right;\n",
       "    }\n",
       "</style>\n",
       "<table border=\"1\" class=\"dataframe\">\n",
       "  <thead>\n",
       "    <tr style=\"text-align: right;\">\n",
       "      <th></th>\n",
       "      <th>params</th>\n",
       "      <th>mean_test_score</th>\n",
       "      <th>std_test_score</th>\n",
       "    </tr>\n",
       "  </thead>\n",
       "  <tbody>\n",
       "    <tr>\n",
       "      <th>0</th>\n",
       "      <td>{'C': 0.1, 'penalty': 'l1'}</td>\n",
       "      <td>0.922820</td>\n",
       "      <td>0.022496</td>\n",
       "    </tr>\n",
       "    <tr>\n",
       "      <th>1</th>\n",
       "      <td>{'C': 0.1, 'penalty': 'l2'}</td>\n",
       "      <td>0.932896</td>\n",
       "      <td>0.021612</td>\n",
       "    </tr>\n",
       "    <tr>\n",
       "      <th>2</th>\n",
       "      <td>{'C': 1, 'penalty': 'l1'}</td>\n",
       "      <td>0.948497</td>\n",
       "      <td>0.021488</td>\n",
       "    </tr>\n",
       "    <tr>\n",
       "      <th>3</th>\n",
       "      <td>{'C': 1, 'penalty': 'l2'}</td>\n",
       "      <td>0.945718</td>\n",
       "      <td>0.022986</td>\n",
       "    </tr>\n",
       "    <tr>\n",
       "      <th>4</th>\n",
       "      <td>{'C': 10, 'penalty': 'l1'}</td>\n",
       "      <td>0.955025</td>\n",
       "      <td>0.023470</td>\n",
       "    </tr>\n",
       "    <tr>\n",
       "      <th>5</th>\n",
       "      <td>{'C': 10, 'penalty': 'l2'}</td>\n",
       "      <td>0.951509</td>\n",
       "      <td>0.023983</td>\n",
       "    </tr>\n",
       "  </tbody>\n",
       "</table>\n",
       "</div>"
      ],
      "text/plain": [
       "                        params  mean_test_score  std_test_score\n",
       "0  {'C': 0.1, 'penalty': 'l1'}         0.922820        0.022496\n",
       "1  {'C': 0.1, 'penalty': 'l2'}         0.932896        0.021612\n",
       "2    {'C': 1, 'penalty': 'l1'}         0.948497        0.021488\n",
       "3    {'C': 1, 'penalty': 'l2'}         0.945718        0.022986\n",
       "4   {'C': 10, 'penalty': 'l1'}         0.955025        0.023470\n",
       "5   {'C': 10, 'penalty': 'l2'}         0.951509        0.023983"
      ]
     },
     "execution_count": 15,
     "metadata": {},
     "output_type": "execute_result"
    }
   ],
   "source": [
    "results = pd.DataFrame(search.cv_results_)[['params', 'mean_test_score', 'std_test_score']]\n",
    "print(results.shape)\n",
    "results"
   ]
  },
  {
   "cell_type": "markdown",
   "id": "6e057018-9505-464c-b9e9-8fb9d8e60632",
   "metadata": {},
   "source": [
    "- again, when c=10 and penalty is either l1 or L2, the performances are very similar. So in reality, it wouldn't matter whether we choose ridge or lasso when c=10."
   ]
  },
  {
   "cell_type": "code",
   "execution_count": 16,
   "id": "727b10d6-0912-44ea-a36a-2bc8a069fe2c",
   "metadata": {},
   "outputs": [
    {
     "data": {
      "text/plain": [
       "Text(0.5, 0, 'Hyperparameter space')"
      ]
     },
     "execution_count": 16,
     "metadata": {},
     "output_type": "execute_result"
    },
    {
     "data": {
      "image/png": "[encoded data removed]",
      "text/plain": [
       "<Figure size 432x288 with 1 Axes>"
      ]
     },
     "metadata": {
      "needs_background": "light"
     },
     "output_type": "display_data"
    }
   ],
   "source": [
    "# Let's plot these model accuracys with the interval of performance\n",
    "results.sort_values(by='mean_test_score', ascending=False, inplace=True)\n",
    "\n",
    "results.reset_index(drop=True, inplace=True)\n",
    "\n",
    "results['mean_test_score'].plot(yerr=[results['std_test_score'], results['std_test_score']], subplots=True)\n",
    "\n",
    "plt.ylabel('Mean Accuracy')\n",
    "\n",
    "plt.xlabel('Hyperparameter space')"
   ]
  },
  {
   "cell_type": "code",
   "execution_count": 17,
   "id": "933aa762-1d62-447a-b67c-98c04a8d01f3",
   "metadata": {},
   "outputs": [
    {
     "name": "stdout",
     "output_type": "stream",
     "text": [
      "Train Accuracy: 0.9749\n",
      "Test Accuracy: 0.9708\n"
     ]
    }
   ],
   "source": [
    "# let's get the predictions\n",
    "train_preds = search.predict(X_train)\n",
    "test_preds = search.predict(X_test)\n",
    "\n",
    "print('Train Accuracy: {:.4f}'.format(accuracy_score(y_train, train_preds)))\n",
    "print('Test Accuracy: {:.4f}'.format(accuracy_score(y_test, test_preds)))"
   ]
  },
  {
   "cell_type": "markdown",
   "id": "824778dd-c5f2-444f-a3b0-a34427239944",
   "metadata": {},
   "source": [
    "- WOW! First, both train and test performance using repeated Kfold is much higher than simply using kfold. Not we've used the same hyper paramter space for both cross validation schemes, the only change has been the cross validation scheme\n",
    "- Notice, the test accurachy falls within the expected interval of our chosen model"
   ]
  },
  {
   "cell_type": "markdown",
   "id": "c5f08a5f-cfd7-45eb-96eb-cf71df9a2dc3",
   "metadata": {},
   "source": [
    "### 3. Stratified Cross validation"
   ]
  },
  {
   "cell_type": "code",
   "execution_count": 20,
   "id": "62ef4501-4066-4059-8dcf-af3f786ba916",
   "metadata": {},
   "outputs": [
    {
     "data": {
      "text/plain": [
       "{'C': 10, 'penalty': 'l2'}"
      ]
     },
     "execution_count": 20,
     "metadata": {},
     "output_type": "execute_result"
    }
   ],
   "source": [
    "# Logistic Regression\n",
    "logit = LogisticRegression(\n",
    "    penalty='l2', C=1, solver='liblinear', random_state=4, max_iter=10000) #these initial parameters dont matter too much as we'll be modifying them with grid search\n",
    "\n",
    "# hyperparameter space - contains different parameters we want to test\n",
    "param_grid = dict(\n",
    "    penalty=['l1', 'l2'],\n",
    "    C=[0.1, 1, 10],\n",
    ")\n",
    "\n",
    "# K-fold cross-validation\n",
    "skf = StratifiedKFold(n_splits=5, \n",
    "                   shuffle=True, \n",
    "                   random_state=4,\n",
    "                  )\n",
    "\n",
    "\n",
    "# search\n",
    "clf = GridSearchCV(\n",
    "    logit,\n",
    "    param_grid,\n",
    "    scoring='accuracy',\n",
    "    cv=skf, #stratified k-fold\n",
    "    refit=True, #refits best model to entire dataset\n",
    ")\n",
    "\n",
    "# By fitting with grid search, it will build models with all the possible combinations of parameters in the parameter space\n",
    "search = clf.fit(X_train, y_train)\n",
    "\n",
    "# best hyperparameters\n",
    "search.best_params_"
   ]
  },
  {
   "cell_type": "code",
   "execution_count": 21,
   "id": "e4b4933e-1451-4408-a516-144daca86a68",
   "metadata": {},
   "outputs": [
    {
     "name": "stdout",
     "output_type": "stream",
     "text": [
      "(6, 3)\n"
     ]
    },
    {
     "data": {
      "text/html": [
       "<div>\n",
       "<style scoped>\n",
       "    .dataframe tbody tr th:only-of-type {\n",
       "        vertical-align: middle;\n",
       "    }\n",
       "\n",
       "    .dataframe tbody tr th {\n",
       "        vertical-align: top;\n",
       "    }\n",
       "\n",
       "    .dataframe thead th {\n",
       "        text-align: right;\n",
       "    }\n",
       "</style>\n",
       "<table border=\"1\" class=\"dataframe\">\n",
       "  <thead>\n",
       "    <tr style=\"text-align: right;\">\n",
       "      <th></th>\n",
       "      <th>params</th>\n",
       "      <th>mean_test_score</th>\n",
       "      <th>std_test_score</th>\n",
       "    </tr>\n",
       "  </thead>\n",
       "  <tbody>\n",
       "    <tr>\n",
       "      <th>0</th>\n",
       "      <td>{'C': 0.1, 'penalty': 'l1'}</td>\n",
       "      <td>0.927025</td>\n",
       "      <td>0.020516</td>\n",
       "    </tr>\n",
       "    <tr>\n",
       "      <th>1</th>\n",
       "      <td>{'C': 0.1, 'penalty': 'l2'}</td>\n",
       "      <td>0.926994</td>\n",
       "      <td>0.027246</td>\n",
       "    </tr>\n",
       "    <tr>\n",
       "      <th>2</th>\n",
       "      <td>{'C': 1, 'penalty': 'l1'}</td>\n",
       "      <td>0.949652</td>\n",
       "      <td>0.026659</td>\n",
       "    </tr>\n",
       "    <tr>\n",
       "      <th>3</th>\n",
       "      <td>{'C': 1, 'penalty': 'l2'}</td>\n",
       "      <td>0.944620</td>\n",
       "      <td>0.023649</td>\n",
       "    </tr>\n",
       "    <tr>\n",
       "      <th>4</th>\n",
       "      <td>{'C': 10, 'penalty': 'l1'}</td>\n",
       "      <td>0.947184</td>\n",
       "      <td>0.021802</td>\n",
       "    </tr>\n",
       "    <tr>\n",
       "      <th>5</th>\n",
       "      <td>{'C': 10, 'penalty': 'l2'}</td>\n",
       "      <td>0.952152</td>\n",
       "      <td>0.021933</td>\n",
       "    </tr>\n",
       "  </tbody>\n",
       "</table>\n",
       "</div>"
      ],
      "text/plain": [
       "                        params  mean_test_score  std_test_score\n",
       "0  {'C': 0.1, 'penalty': 'l1'}         0.927025        0.020516\n",
       "1  {'C': 0.1, 'penalty': 'l2'}         0.926994        0.027246\n",
       "2    {'C': 1, 'penalty': 'l1'}         0.949652        0.026659\n",
       "3    {'C': 1, 'penalty': 'l2'}         0.944620        0.023649\n",
       "4   {'C': 10, 'penalty': 'l1'}         0.947184        0.021802\n",
       "5   {'C': 10, 'penalty': 'l2'}         0.952152        0.021933"
      ]
     },
     "execution_count": 21,
     "metadata": {},
     "output_type": "execute_result"
    }
   ],
   "source": [
    "results = pd.DataFrame(search.cv_results_)[['params', 'mean_test_score', 'std_test_score']]\n",
    "print(results.shape)\n",
    "results"
   ]
  },
  {
   "cell_type": "code",
   "execution_count": 22,
   "id": "bf53e4d4-7ffd-42c4-8767-d264509f2a56",
   "metadata": {},
   "outputs": [
    {
     "data": {
      "text/plain": [
       "Text(0.5, 0, 'Hyperparameter space')"
      ]
     },
     "execution_count": 22,
     "metadata": {},
     "output_type": "execute_result"
    },
    {
     "data": {
      "image/png": "[encoded data removed]",
      "text/plain": [
       "<Figure size 432x288 with 1 Axes>"
      ]
     },
     "metadata": {
      "needs_background": "light"
     },
     "output_type": "display_data"
    }
   ],
   "source": [
    "# Let's plot these model accuracys with the interval of performance\n",
    "results.sort_values(by='mean_test_score', ascending=False, inplace=True)\n",
    "\n",
    "results.reset_index(drop=True, inplace=True)\n",
    "\n",
    "results['mean_test_score'].plot(yerr=[results['std_test_score'], results['std_test_score']], subplots=True)\n",
    "\n",
    "plt.ylabel('Mean Accuracy')\n",
    "\n",
    "plt.xlabel('Hyperparameter space')"
   ]
  },
  {
   "cell_type": "code",
   "execution_count": 23,
   "id": "b4307880-2872-4e7f-aa15-7e3acdfc8f39",
   "metadata": {},
   "outputs": [
    {
     "name": "stdout",
     "output_type": "stream",
     "text": [
      "Train Accuracy: 0.9623\n",
      "Test Accuracy: 0.9532\n"
     ]
    }
   ],
   "source": [
    "# let's get the predictions\n",
    "train_preds = search.predict(X_train)\n",
    "test_preds = search.predict(X_test)\n",
    "\n",
    "print('Train Accuracy: {:.4f}'.format(accuracy_score(y_train, train_preds)))\n",
    "print('Test Accuracy: {:.4f}'.format(accuracy_score(y_test, test_preds)))"
   ]
  },
  {
   "cell_type": "code",
   "execution_count": null,
   "id": "805ca463-cf5a-40a4-9d53-2259227691f4",
   "metadata": {},
   "outputs": [],
   "source": []
  }
 ],
 "metadata": {
  "kernelspec": {
   "display_name": "udacity env",
   "language": "python",
   "name": "udac_env"
  },
  "language_info": {
   "codemirror_mode": {
    "name": "ipython",
    "version": 3
   },
   "file_extension": ".py",
   "mimetype": "text/x-python",
   "name": "python",
   "nbconvert_exporter": "python",
   "pygments_lexer": "ipython3",
   "version": "3.9.7"
  }
 },
 "nbformat": 4,
 "nbformat_minor": 5
}
